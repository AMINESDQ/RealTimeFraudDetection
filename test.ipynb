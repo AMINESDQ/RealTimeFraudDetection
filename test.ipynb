{
 "cells": [
  {
   "cell_type": "code",
   "execution_count": 4,
   "metadata": {},
   "outputs": [
    {
     "name": "stdout",
     "output_type": "stream",
     "text": [
      "Envoi de 5000 transactions au topic 'transactions-input' en 300 secondes...\n"
     ]
    },
    {
     "ename": "KeyboardInterrupt",
     "evalue": "",
     "output_type": "error",
     "traceback": [
      "\u001b[1;31m---------------------------------------------------------------------------\u001b[0m",
      "\u001b[1;31mKeyboardInterrupt\u001b[0m                         Traceback (most recent call last)",
      "Cell \u001b[1;32mIn[4], line 66\u001b[0m\n\u001b[0;32m     63\u001b[0m     \u001b[38;5;28mprint\u001b[39m(\u001b[38;5;124m\"\u001b[39m\u001b[38;5;124mToutes les transactions ont été envoyées avec succès.\u001b[39m\u001b[38;5;124m\"\u001b[39m)\n\u001b[0;32m     65\u001b[0m \u001b[38;5;28;01mif\u001b[39;00m \u001b[38;5;18m__name__\u001b[39m \u001b[38;5;241m==\u001b[39m \u001b[38;5;124m'\u001b[39m\u001b[38;5;124m__main__\u001b[39m\u001b[38;5;124m'\u001b[39m:\n\u001b[1;32m---> 66\u001b[0m     \u001b[43mproduce_transactions\u001b[49m\u001b[43m(\u001b[49m\u001b[43m)\u001b[49m\n",
      "Cell \u001b[1;32mIn[4], line 58\u001b[0m, in \u001b[0;36mproduce_transactions\u001b[1;34m()\u001b[0m\n\u001b[0;32m     55\u001b[0m         \u001b[38;5;28mprint\u001b[39m(\u001b[38;5;124mf\u001b[39m\u001b[38;5;124m\"\u001b[39m\u001b[38;5;124mErreur lors de l\u001b[39m\u001b[38;5;124m'\u001b[39m\u001b[38;5;124menvoi : \u001b[39m\u001b[38;5;132;01m{\u001b[39;00me\u001b[38;5;132;01m}\u001b[39;00m\u001b[38;5;124m\"\u001b[39m)\n\u001b[0;32m     57\u001b[0m     \u001b[38;5;66;03m# Pause pour respecter l'intervalle\u001b[39;00m\n\u001b[1;32m---> 58\u001b[0m     \u001b[43mtime\u001b[49m\u001b[38;5;241;43m.\u001b[39;49m\u001b[43msleep\u001b[49m\u001b[43m(\u001b[49m\u001b[43mINTERVAL\u001b[49m\u001b[43m)\u001b[49m\n\u001b[0;32m     60\u001b[0m \u001b[38;5;66;03m# Assurez-vous que tous les messages ont été transmis avant de fermer\u001b[39;00m\n\u001b[0;32m     61\u001b[0m producer\u001b[38;5;241m.\u001b[39mflush()\n",
      "\u001b[1;31mKeyboardInterrupt\u001b[0m: "
     ]
    }
   ],
   "source": [
    "from confluent_kafka import Producer\n",
    "import json\n",
    "import time\n",
    "import random\n",
    "\n",
    "# Configuration de Kafka\n",
    "BOOTSTRAP_SERVERS = 'localhost:9092'\n",
    "TOPIC_INPUT = 'transactions-input'\n",
    "\n",
    "# Configuration pour 2000 transactions en 120 secondes\n",
    "TOTAL_TRANSACTIONS = 5000\n",
    "DURATION_SECONDS = 300\n",
    "INTERVAL = DURATION_SECONDS / TOTAL_TRANSACTIONS  # Intervalle entre les envois\n",
    "\n",
    "# Fonction pour produire des transactions\n",
    "def delivery_report(err, msg):\n",
    "    \"\"\"\n",
    "    Callback pour signaler le succès ou l'échec de la livraison d'un message.\n",
    "    \"\"\"\n",
    "    if err is not None:\n",
    "        print(f\"Échec de l'envoi du message : {err}\")\n",
    "    else:\n",
    "        print(f\"Message envoyé avec succès au topic {msg.topic()} [partition {msg.partition()}]\")\n",
    "\n",
    "def produce_transactions():\n",
    "    # Configuration du Producer Kafka\n",
    "    producer_config = {\n",
    "        'bootstrap.servers': BOOTSTRAP_SERVERS,\n",
    "        'linger.ms': 10,  # Réduire la latence d'envoi\n",
    "    }\n",
    "    producer = Producer(producer_config)\n",
    "\n",
    "    print(f\"Envoi de {TOTAL_TRANSACTIONS} transactions au topic '{TOPIC_INPUT}' en {DURATION_SECONDS} secondes...\")\n",
    "\n",
    "    user_ids = ['UserId1', 'UserId2', 'UserId3', 'UserId4', 'UserId5']\n",
    "    for i in range(TOTAL_TRANSACTIONS):\n",
    "        user_id = random.choice(user_ids)\n",
    "        amount = random.randint(1000, 20000)  # Montant entre 1000 et 20000\n",
    "        timestamp = time.strftime('%Y-%m-%dT%H:%M:%SZ', time.gmtime())\n",
    "        transaction = {\n",
    "            \"userId\": user_id,\n",
    "            \"amount\": amount,\n",
    "            \"timestamp\": timestamp\n",
    "        }\n",
    "\n",
    "        # Envoi au topic Kafka\n",
    "        try:\n",
    "            producer.produce(\n",
    "                topic=TOPIC_INPUT,\n",
    "                key=str(user_id),\n",
    "                value=json.dumps(transaction),\n",
    "                callback=delivery_report\n",
    "            )\n",
    "        except Exception as e:\n",
    "            print(f\"Erreur lors de l'envoi : {e}\")\n",
    "\n",
    "        # Pause pour respecter l'intervalle\n",
    "        time.sleep(INTERVAL)\n",
    "\n",
    "    # Assurez-vous que tous les messages ont été transmis avant de fermer\n",
    "    producer.flush()\n",
    "\n",
    "    print(\"Toutes les transactions ont été envoyées avec succès.\")\n",
    "\n",
    "if __name__ == '__main__':\n",
    "    produce_transactions()\n"
   ]
  },
  {
   "cell_type": "code",
   "execution_count": null,
   "metadata": {},
   "outputs": [],
   "source": []
  }
 ],
 "metadata": {
  "kernelspec": {
   "display_name": "Python 3",
   "language": "python",
   "name": "python3"
  },
  "language_info": {
   "codemirror_mode": {
    "name": "ipython",
    "version": 3
   },
   "file_extension": ".py",
   "mimetype": "text/x-python",
   "name": "python",
   "nbconvert_exporter": "python",
   "pygments_lexer": "ipython3",
   "version": "3.12.6"
  }
 },
 "nbformat": 4,
 "nbformat_minor": 2
}
